{
  "nbformat": 4,
  "nbformat_minor": 0,
  "metadata": {
    "colab": {
      "provenance": [],
      "authorship_tag": "ABX9TyMs8kmKiElAFk9C+ZMWaVNQ",
      "include_colab_link": true
    },
    "kernelspec": {
      "name": "python3",
      "display_name": "Python 3"
    },
    "language_info": {
      "name": "python"
    }
  },
  "cells": [
    {
      "cell_type": "markdown",
      "metadata": {
        "id": "view-in-github",
        "colab_type": "text"
      },
      "source": [
        "<a href=\"https://colab.research.google.com/github/knggu/Iamgroww/blob/main/Untitled0.ipynb\" target=\"_parent\"><img src=\"https://colab.research.google.com/assets/colab-badge.svg\" alt=\"Open In Colab\"/></a>"
      ]
    },
    {
      "cell_type": "code",
      "execution_count": 12,
      "metadata": {
        "id": "hJtexoxpMbMJ",
        "colab": {
          "base_uri": "https://localhost:8080/"
        },
        "outputId": "25de2600-750f-471d-9e69-e2f486820d86"
      },
      "outputs": [
        {
          "output_type": "stream",
          "name": "stdout",
          "text": [
            "Using Comprehension\n",
            "Nemo is swimming at 3 m/s\n",
            "Dory is swimming at 5 m/s\n",
            "Using Generator\n",
            "Nemo is swimming at 3 m/s\n",
            "Dory is swimming at 5 m/s\n"
          ]
        }
      ],
      "source": [
        "# 물고기 리스트 생성\n",
        "fish_list = [ {\"이름\": \"Nemo\", \"speed\": 3}, {\"이름\": \"Dory\", \"speed\": 5}]\n",
        "# print(\"Using Comprehension:\")\n",
        "# show_fish_movement_comprehension(fish_list)\n",
        "# print(\"Using Generator:\")\n",
        "# show_fish_movement_Generator(fish_list)\n",
        "\n",
        "\n",
        "# 출력값 :\n",
        "# Using Comprehension:\n",
        "# Nemo is swimming at 3 m/s\n",
        "# Dory is swimming at 5 m/s\n",
        "# Using Generator:\n",
        "# Nemo is swimming at 3 m/s\n",
        "# Dory is swimming at 5 m/s\n",
        "\n",
        "\n",
        "#컴프리헨션 사용해서 순서대로 출력 f스트링으로 출력값 위치 설정\n",
        "def show_fish_movement_comprehension(fish_list):\n",
        "  output = [f\"{fish['이름']} is swimming at {fish['speed']} m/s\" for fish in fish_list]\n",
        "  print('\\n'.join(output))\n",
        "#조인 사용해서 \\n 줄바꿈으로 구분하여 출력\n",
        "\n",
        "#순서대로 출력하도록 제너레이터를 만듬, 출력 위치랑 값은 f로 조정\n",
        "def show_fish_movement_Generator(fish_list):\n",
        "  for fish in fish_list:\n",
        "    yield f\"{fish['이름']} is swimming at {fish['speed']} m/s\"\n",
        "\n",
        "\n",
        "\n",
        "print(\"Using Comprehension\")\n",
        "show_fish_movement_comprehension(fish_list)\n",
        "\n",
        "#만들어진 제너레이터를 for 함수 이용해서 순서대로 출력\n",
        "print(\"Using Generator\")\n",
        "for x in show_fish_movement_Generator(fish_list):\n",
        "  print(x)\n",
        "\n",
        "\n",
        "\n",
        "# x for x in 이터러블 객체 에서 좀 더 생각해야 하는 코드와\n",
        "# 제너레이터 반복 학습을 위한 퀘스트\n",
        "# 수학에서 심화학습 하듯이 코드도 심화학습이 필요한 것 같은데\n",
        "# 그 부분을 퀘스트가 해결해 주는 것 같다\n",
        "# 따라가기 엄청 어렵다...\n",
        "# 코드 작성에 도움을 주신 김연 그루분께 감사드립니다.\n",
        "\n",
        "\n",
        "\n",
        "\n",
        "\n",
        "\n"
      ]
    }
  ]
}