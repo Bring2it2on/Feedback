{
  "nbformat": 4,
  "nbformat_minor": 0,
  "metadata": {
    "colab": {
      "provenance": [],
      "authorship_tag": "ABX9TyPGV75UXns4QMQVkJSJ2WNm",
      "include_colab_link": true
    },
    "kernelspec": {
      "name": "python3",
      "display_name": "Python 3"
    },
    "language_info": {
      "name": "python"
    }
  },
  "cells": [
    {
      "cell_type": "markdown",
      "metadata": {
        "id": "view-in-github",
        "colab_type": "text"
      },
      "source": [
        "<a href=\"https://colab.research.google.com/github/knggu/Iamgroww/blob/main/Untitled0.ipynb\" target=\"_parent\"><img src=\"https://colab.research.google.com/assets/colab-badge.svg\" alt=\"Open In Colab\"/></a>"
      ]
    },
    {
      "cell_type": "code",
      "execution_count": 12,
      "metadata": {
        "id": "hJtexoxpMbMJ",
        "colab": {
          "base_uri": "https://localhost:8080/"
        },
        "outputId": "25de2600-750f-471d-9e69-e2f486820d86"
      },
      "outputs": [
        {
          "output_type": "stream",
          "name": "stdout",
          "text": [
            "Using Comprehension\n",
            "Nemo is swimming at 3 m/s\n",
            "Dory is swimming at 5 m/s\n",
            "Using Generator\n",
            "Nemo is swimming at 3 m/s\n",
            "Dory is swimming at 5 m/s\n"
          ]
        }
      ],
      "source": [
        "# 물고기 리스트 생성\n",
        "fish_list = [ {\"이름\": \"Nemo\", \"speed\": 3}, {\"이름\": \"Dory\", \"speed\": 5}]\n",
        "# print(\"Using Comprehension:\")\n",
        "# show_fish_movement_comprehension(fish_list)\n",
        "# print(\"Using Generator:\")\n",
        "# show_fish_movement_Generator(fish_list)\n",
        "\n",
        "\n",
        "# 출력값 :\n",
        "# Using Comprehension:\n",
        "# Nemo is swimming at 3 m/s\n",
        "# Dory is swimming at 5 m/s\n",
        "# Using Generator:\n",
        "# Nemo is swimming at 3 m/s\n",
        "# Dory is swimming at 5 m/s\n",
        "\n",
        "\n",
        "#컴프리헨션 사용해서 순서대로 출력 f스트링으로 출력값 위치 설정\n",
        "def show_fish_movement_comprehension(fish_list):\n",
        "  output = [f\"{fish['이름']} is swimming at {fish['speed']} m/s\" for fish in fish_list]\n",
        "  print('\\n'.join(output))\n",
        "#조인 사용해서 \\n 줄바꿈으로 구분하여 출력\n",
        "\n",
        "\n",
        "def show_fish_movement_Generator(fish_list):\n",
        "  for fish in fish_list:\n",
        "    yield f\"{fish['이름']} is swimming at {fish['speed']} m/s\"\n",
        "\n",
        "\n",
        "\n",
        "print(\"Using Comprehension\")\n",
        "show_fish_movement_comprehension(fish_list)\n",
        "\n",
        "print(\"Using Generator\")\n",
        "for x in show_fish_movement_Generator(fish_list):\n",
        "  print(x)\n",
        "\n",
        "\n",
        "\n",
        "#\n",
        "\n",
        "\n",
        "\n",
        "\n",
        "\n",
        "\n"
      ]
    }
  ]
}