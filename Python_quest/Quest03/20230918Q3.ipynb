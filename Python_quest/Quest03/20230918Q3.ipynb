{
  "nbformat": 4,
  "nbformat_minor": 0,
  "metadata": {
    "colab": {
      "provenance": [],
      "mount_file_id": "1vpjY2W47a1FwAqJO2JinW_yGLEc7ZZ1p",
      "authorship_tag": "ABX9TyNBgTngXTSAsj4oPjKF0uQP",
      "include_colab_link": true
    },
    "kernelspec": {
      "name": "python3",
      "display_name": "Python 3"
    },
    "language_info": {
      "name": "python"
    }
  },
  "cells": [
    {
      "cell_type": "markdown",
      "metadata": {
        "id": "view-in-github",
        "colab_type": "text"
      },
      "source": [
        "<a href=\"https://colab.research.google.com/github/knggu/NEWGrow/blob/main/20230918Q3.ipynb\" target=\"_parent\"><img src=\"https://colab.research.google.com/assets/colab-badge.svg\" alt=\"Open In Colab\"/></a>"
      ]
    },
    {
      "cell_type": "code",
      "execution_count": 36,
      "metadata": {
        "colab": {
          "base_uri": "https://localhost:8080/"
        },
        "id": "6S2e50RW7P8l",
        "outputId": "8a62ca50-34cb-403a-ffeb-1918913e1abf"
      },
      "outputs": [
        {
          "output_type": "execute_result",
          "data": {
            "text/plain": [
              "[('i', 'just'),\n",
              " ('just', 'didnt'),\n",
              " ('didnt', 'argue'),\n",
              " ('argue', 'with'),\n",
              " ('with', 'the'),\n",
              " ('the', 'god'),\n",
              " ('god', 'that'),\n",
              " ('that', 'did')]"
            ]
          },
          "metadata": {},
          "execution_count": 36
        }
      ],
      "source": [
        "import re\n",
        "\n",
        "#특수기호 제거, r 이스케이프 문자 포함, 0~9, a~z, A~Z, \\s(띄어쓰기)를 ^제외한 문자를 공백으로\n",
        "def del_text(input1):\n",
        "  del_line = re.sub(r\"[^0-9a-zA-Z\\s]\",\"\",str(input1))\n",
        "  return del_line\n",
        "\n",
        "#소문자로 바꿔주기\n",
        "def lower_text(input2):\n",
        "  lower_line = input2.lower()\n",
        "  return lower_line\n",
        "\n",
        "#Ngram 바꿔주기\n",
        "def ngram_text(input3):\n",
        "  txtsplit = input3.split()\n",
        "  txtngram = list(zip(txtsplit,txtsplit[1:]))\n",
        "  return txtngram\n",
        "\n",
        "\n",
        "#파일 불러오고\n",
        "qfile = open(\"/06TheAvengers.txt\",\"r\")\n",
        "\n",
        "#파일 읽고\n",
        "text = qfile.read()\n",
        "\n",
        "#파일 줄바꿈 기준으로 리스트화\n",
        "textlined = text.split(\"\\n\")\n",
        "\n",
        "#print(textlined) textlined에 리스트 1개에 1줄 확인\n",
        "\n",
        "\n",
        "#리스트에서 한줄씩 가져와서 기호빼주고 소문자 만들어주고 N-gram 해주고 이게 맞아...?\n",
        "#리스트에서 먼저 한줄 가져오자\n",
        "\n",
        "for i in textlined :\n",
        "  x = del_text(i)\n",
        "  y = lower_text(x)\n",
        "  z = ngram_text(y)\n",
        "\n",
        "\n",
        "# 함수는 되는거 같은데;;\n",
        "# expo = del_text(\"Where do you find all these people?\")\n",
        "# expo1 = lower_text(expo)\n",
        "# expo2 = ngram_text(expo1)\n",
        "# expo2\n",
        "\n",
        "gramdict = {}\n",
        "\n",
        "\n",
        "\n",
        "#후기...\n",
        "#너무 어렵다.... 코드 따라가기 바쁘다\n",
        "#어렵게 생각하지말고 간단하게 하려니까 어렵고...\n",
        "#간단하게 코드 짜려니까 또 어렵고....\n",
        "#간단하게 하려면 어려워지고 어렵게 따라가려면 더 어렵고....\n",
        "#리스트까지 만들었으니 딕셔너리랑 카운트도 해봐야겠다"
      ]
    }
  ]
}