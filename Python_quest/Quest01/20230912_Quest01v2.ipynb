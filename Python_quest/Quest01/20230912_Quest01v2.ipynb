{
  "nbformat": 4,
  "nbformat_minor": 0,
  "metadata": {
    "colab": {
      "provenance": [],
      "include_colab_link": true
    },
    "kernelspec": {
      "name": "python3",
      "display_name": "Python 3"
    },
    "language_info": {
      "name": "python"
    }
  },
  "cells": [
    {
      "cell_type": "markdown",
      "metadata": {
        "id": "view-in-github",
        "colab_type": "text"
      },
      "source": [
        "<a href=\"https://colab.research.google.com/github/knggu/NEWGrow/blob/master/20230912_Quest01v2.ipynb\" target=\"_parent\"><img src=\"https://colab.research.google.com/assets/colab-badge.svg\" alt=\"Open In Colab\"/></a>"
      ]
    },
    {
      "cell_type": "code",
      "execution_count": null,
      "metadata": {
        "id": "hEFZqkwHDI8J"
      },
      "outputs": [],
      "source": [
        "# 회문인지 아닌지 확인하는 프로그램\n",
        "## 단어 입력 받고 -> 뒤집어서 출력을 하고 -> 회문인지 아닌지 확인\n",
        "## 단어는 리스트처럼 인덱싱을 활용 가능 -> 단어 뒤집는 방법 -> 단어[::-1]\n",
        "## input -> 인덱싱을 거꾸로 하면 되고 -> if 조건 회문인지 아닌지 판단\n",
        "## 표기법은 스네이크 케이스\n",
        "\n",
        "# 회문 판별 함수\n",
        "def reverse_check(word):\n",
        "  # 입력 단어 뒤집는다.\n",
        "  local_reverse_word = word[::-1]\n",
        "  # 입력 단어와 뒤집은 단어 비교 후 출력\n",
        "  if local_reverse_word == word:\n",
        "    print(\"입력된 단어는 회문입니다.\")\n",
        "  else:\n",
        "    print(\"입력된 단어는 회문이 아닙니다.\")\n",
        "\n",
        "# main 함수\n",
        "def main():\n",
        "  # 단어를 입력 받는다\n",
        "  input_word = input(\"단어를 입력해주세요 : \")\n",
        "\n",
        "  print(\"====================\")\n",
        "  print(\"입력값 :\\n\" + input_word)\n",
        "  # 단어를 뒤집는다.\n",
        "  reverse_word = input_word[::-1]\n",
        "\n",
        "  print(\"\\n\")\n",
        "\n",
        "  print(\"출력값 :\")\n",
        "  print(\"뒤집힌 단어는 : \" + reverse_word)\n",
        "  # 회문 판별 함수\n",
        "  reverse_check(input_word)\n",
        "\n",
        "main()\n",
        "\n",
        "\n",
        "\n",
        "# 코드 짤때 개념 먼저 인지하고 하나씩 코드를 그려나가는데\n",
        "# 팀원인 최재혁님께서 간결하고 오류날 부분을 먼저 인지하고\n",
        "# 수정할 부분을 알려주어 큰 어려움 없이 진행하였다.\n",
        "# 함수 및 변수 선언시 에러가 일어날 경우를 대비해 기능마다 함수로 묶어서\n",
        "# 오류날 부분을 최대한 잡는 부분도 배워서 신기했다.\n",
        "# 하나씩 추출하여 대입하는 방법도 생각해보았지만 최대한 간결한 방식을 생각해내는것이\n",
        "# 코딩을 좀 더 쉽게 하는 방법임을 느꼈다.\n",
        "# 차후 인자 하나씩 추출하여 비교하고 결과를 도출해 내는 방법도 코딩해보겠다."
      ]
    }
  ]
}